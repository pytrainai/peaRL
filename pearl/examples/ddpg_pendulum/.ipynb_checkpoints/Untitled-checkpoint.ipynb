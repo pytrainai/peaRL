{
 "cells": [
  {
   "cell_type": "code",
   "execution_count": 1,
   "metadata": {},
   "outputs": [
    {
     "data": {
      "text/plain": [
       "{'env': {'env_name': 'Pendulum-v0', 'env_seed': 42},\n",
       " 'algo': {'agent_name': 'ddpg',\n",
       "  'torch_use_cuda': True,\n",
       "  'torch_seed': 34,\n",
       "  'agent_lr_actor': 0.0002,\n",
       "  'agent_lr_critic': 0.002,\n",
       "  'agent_noise': 'OUNoise',\n",
       "  'agent_noise_seed': 22,\n",
       "  'memory_type': 'vanilla',\n",
       "  'memory_size': 100000},\n",
       " 'process': {'process_name': 'process_0',\n",
       "  'process_np_seed': 42,\n",
       "  'batch_size': 512},\n",
       " 'trainer': {'max_episodes': 6000,\n",
       "  'train_every': 100,\n",
       "  'print_every': 50,\n",
       "  'warmup_timesteps': 1000,\n",
       "  'noise_decay': 0.999999}}"
      ]
     },
     "execution_count": 1,
     "metadata": {},
     "output_type": "execute_result"
    }
   ],
   "source": [
    "from pearl.utils.misc import *\n",
    "\n",
    "def MakeConfig(config_file):\n",
    "    configs = get_config(config_file)\n",
    "    return configs\n",
    "\n",
    "config_file = 'ddpg_linear_config.yaml'\n",
    "configs = MakeConfig(config_file)\n",
    "configs"
   ]
  },
  {
   "cell_type": "code",
   "execution_count": null,
   "metadata": {},
   "outputs": [],
   "source": [
    "config_env = configs['env']\n",
    "config_agent = configs['agent']\n",
    "config_memory = configs['memory']\n",
    "config_process = configs['process']\n",
    "config_trainer = configs['trainer']"
   ]
  },
  {
   "cell_type": "code",
   "execution_count": null,
   "metadata": {},
   "outputs": [],
   "source": []
  },
  {
   "cell_type": "code",
   "execution_count": null,
   "metadata": {},
   "outputs": [],
   "source": []
  },
  {
   "cell_type": "code",
   "execution_count": 1,
   "metadata": {},
   "outputs": [
    {
     "name": "stdout",
     "output_type": "stream",
     "text": [
      "Setting  ddpg  agent on: cuda\n",
      "Episode Num: 0.00 AvgReward: -1445.65 ActorLoss: 5.32 CriticLoss: 0.79 Epsilon: 1.00\n",
      "Episode Num: 50.00 AvgReward: -1554.11 ActorLoss: 5.32 CriticLoss: 0.79 Epsilon: 0.99\n",
      "Episode Num: 100.00 AvgReward: -627.04 ActorLoss: 4.70 CriticLoss: 0.44 Epsilon: 0.98\n",
      "Episode Num: 150.00 AvgReward: -1599.93 ActorLoss: 4.70 CriticLoss: 0.44 Epsilon: 0.97\n",
      "Episode Num: 200.00 AvgReward: -1249.16 ActorLoss: 14.61 CriticLoss: 1.10 Epsilon: 0.96\n",
      "Episode Num: 250.00 AvgReward: -1297.80 ActorLoss: 14.61 CriticLoss: 1.10 Epsilon: 0.95\n",
      "Episode Num: 300.00 AvgReward: -1204.07 ActorLoss: 22.91 CriticLoss: 1.86 Epsilon: 0.94\n",
      "Episode Num: 350.00 AvgReward: -1715.13 ActorLoss: 22.91 CriticLoss: 1.86 Epsilon: 0.93\n",
      "Episode Num: 400.00 AvgReward: -1218.05 ActorLoss: 27.44 CriticLoss: 4.54 Epsilon: 0.92\n",
      "Episode Num: 450.00 AvgReward: -1378.37 ActorLoss: 27.44 CriticLoss: 4.54 Epsilon: 0.91\n",
      "Episode Num: 500.00 AvgReward: -1200.30 ActorLoss: 33.40 CriticLoss: 1.82 Epsilon: 0.90\n",
      "Episode Num: 550.00 AvgReward: -1237.43 ActorLoss: 33.40 CriticLoss: 1.82 Epsilon: 0.90\n",
      "Episode Num: 600.00 AvgReward: -1310.54 ActorLoss: 38.41 CriticLoss: 7.20 Epsilon: 0.89\n",
      "Episode Num: 650.00 AvgReward: -1577.87 ActorLoss: 38.41 CriticLoss: 7.20 Epsilon: 0.88\n",
      "Episode Num: 700.00 AvgReward: -1422.63 ActorLoss: 43.22 CriticLoss: 3.06 Epsilon: 0.87\n",
      "Episode Num: 750.00 AvgReward: -1136.11 ActorLoss: 43.22 CriticLoss: 3.06 Epsilon: 0.86\n",
      "Episode Num: 800.00 AvgReward: -1517.40 ActorLoss: 48.99 CriticLoss: 8.43 Epsilon: 0.85\n",
      "Episode Num: 850.00 AvgReward: -674.34 ActorLoss: 48.99 CriticLoss: 8.43 Epsilon: 0.84\n",
      "Episode Num: 900.00 AvgReward: -517.40 ActorLoss: 48.32 CriticLoss: 4.24 Epsilon: 0.84\n",
      "Episode Num: 950.00 AvgReward: -675.67 ActorLoss: 48.32 CriticLoss: 4.24 Epsilon: 0.83\n",
      "Episode Num: 1000.00 AvgReward: -683.59 ActorLoss: 47.14 CriticLoss: 5.74 Epsilon: 0.82\n",
      "Episode Num: 1050.00 AvgReward: -845.60 ActorLoss: 47.14 CriticLoss: 5.74 Epsilon: 0.81\n",
      "Episode Num: 1100.00 AvgReward: -1267.95 ActorLoss: 46.86 CriticLoss: 4.21 Epsilon: 0.80\n",
      "Episode Num: 1150.00 AvgReward: -1144.80 ActorLoss: 46.86 CriticLoss: 4.21 Epsilon: 0.79\n",
      "Episode Num: 1200.00 AvgReward: -1253.00 ActorLoss: 40.87 CriticLoss: 0.25 Epsilon: 0.79\n",
      "Episode Num: 1250.00 AvgReward: -1597.07 ActorLoss: 40.87 CriticLoss: 0.25 Epsilon: 0.78\n",
      "Episode Num: 1300.00 AvgReward: -405.84 ActorLoss: 44.72 CriticLoss: 5.67 Epsilon: 0.77\n",
      "Episode Num: 1350.00 AvgReward: -1364.22 ActorLoss: 44.72 CriticLoss: 5.67 Epsilon: 0.76\n",
      "Episode Num: 1400.00 AvgReward: -391.28 ActorLoss: 45.17 CriticLoss: 2.52 Epsilon: 0.76\n",
      "Episode Num: 1450.00 AvgReward: -272.48 ActorLoss: 45.17 CriticLoss: 2.52 Epsilon: 0.75\n",
      "Episode Num: 1500.00 AvgReward: -264.19 ActorLoss: 44.30 CriticLoss: 1.47 Epsilon: 0.74\n",
      "Episode Num: 1550.00 AvgReward: -411.51 ActorLoss: 44.30 CriticLoss: 1.47 Epsilon: 0.73\n",
      "Episode Num: 1600.00 AvgReward: -125.43 ActorLoss: 38.42 CriticLoss: 0.67 Epsilon: 0.73\n",
      "Episode Num: 1650.00 AvgReward: -382.59 ActorLoss: 38.42 CriticLoss: 0.67 Epsilon: 0.72\n",
      "Episode Num: 1700.00 AvgReward: -392.37 ActorLoss: 35.75 CriticLoss: 0.54 Epsilon: 0.71\n",
      "Episode Num: 1750.00 AvgReward: -239.98 ActorLoss: 35.75 CriticLoss: 0.54 Epsilon: 0.70\n",
      "Episode Num: 1800.00 AvgReward: -494.57 ActorLoss: 24.85 CriticLoss: 0.19 Epsilon: 0.70\n",
      "Episode Num: 1850.00 AvgReward: -932.04 ActorLoss: 24.85 CriticLoss: 0.19 Epsilon: 0.69\n",
      "Episode Num: 1900.00 AvgReward: -6.06 ActorLoss: 29.47 CriticLoss: 0.23 Epsilon: 0.68\n",
      "Episode Num: 1950.00 AvgReward: -1349.56 ActorLoss: 29.47 CriticLoss: 0.23 Epsilon: 0.68\n",
      "Episode Num: 2000.00 AvgReward: -1361.74 ActorLoss: 34.45 CriticLoss: 10.79 Epsilon: 0.67\n",
      "Episode Num: 2050.00 AvgReward: -1273.27 ActorLoss: 34.45 CriticLoss: 10.79 Epsilon: 0.66\n",
      "Episode Num: 2100.00 AvgReward: -1350.28 ActorLoss: 43.68 CriticLoss: 0.68 Epsilon: 0.66\n",
      "Episode Num: 2150.00 AvgReward: -1510.06 ActorLoss: 43.68 CriticLoss: 0.68 Epsilon: 0.65\n",
      "Episode Num: 2200.00 AvgReward: -123.61 ActorLoss: 45.28 CriticLoss: 17.27 Epsilon: 0.64\n",
      "Episode Num: 2250.00 AvgReward: -0.74 ActorLoss: 45.28 CriticLoss: 17.27 Epsilon: 0.64\n",
      "Episode Num: 2300.00 AvgReward: -237.39 ActorLoss: 56.19 CriticLoss: 0.65 Epsilon: 0.63\n",
      "Episode Num: 2350.00 AvgReward: -1497.54 ActorLoss: 56.19 CriticLoss: 0.65 Epsilon: 0.62\n",
      "Episode Num: 2400.00 AvgReward: -1307.59 ActorLoss: 58.50 CriticLoss: 7.98 Epsilon: 0.62\n",
      "Episode Num: 2450.00 AvgReward: -597.16 ActorLoss: 58.50 CriticLoss: 7.98 Epsilon: 0.61\n",
      "Episode Num: 2500.00 AvgReward: -1538.56 ActorLoss: 61.45 CriticLoss: 27.72 Epsilon: 0.61\n",
      "Episode Num: 2550.00 AvgReward: -493.34 ActorLoss: 61.45 CriticLoss: 27.72 Epsilon: 0.60\n",
      "Episode Num: 2600.00 AvgReward: -1466.49 ActorLoss: 66.11 CriticLoss: 20.77 Epsilon: 0.59\n",
      "Episode Num: 2650.00 AvgReward: -1216.86 ActorLoss: 66.11 CriticLoss: 20.77 Epsilon: 0.59\n",
      "Episode Num: 2700.00 AvgReward: -327.49 ActorLoss: 65.52 CriticLoss: 54.20 Epsilon: 0.58\n",
      "Episode Num: 2750.00 AvgReward: -135.82 ActorLoss: 65.52 CriticLoss: 54.20 Epsilon: 0.58\n",
      "Episode Num: 2800.00 AvgReward: -3.03 ActorLoss: 74.17 CriticLoss: 34.72 Epsilon: 0.57\n",
      "Episode Num: 2850.00 AvgReward: -1518.06 ActorLoss: 74.17 CriticLoss: 34.72 Epsilon: 0.57\n",
      "Episode Num: 2900.00 AvgReward: -1522.70 ActorLoss: 59.18 CriticLoss: 23.38 Epsilon: 0.56\n",
      "Episode Num: 2950.00 AvgReward: -1465.05 ActorLoss: 59.18 CriticLoss: 23.38 Epsilon: 0.55\n",
      "Episode Num: 3000.00 AvgReward: -389.22 ActorLoss: 57.06 CriticLoss: 2.17 Epsilon: 0.55\n",
      "Episode Num: 3050.00 AvgReward: -121.49 ActorLoss: 57.06 CriticLoss: 2.17 Epsilon: 0.54\n",
      "Episode Num: 3100.00 AvgReward: -133.02 ActorLoss: 42.50 CriticLoss: 3.19 Epsilon: 0.54\n",
      "Episode Num: 3150.00 AvgReward: -1494.67 ActorLoss: 42.50 CriticLoss: 3.19 Epsilon: 0.53\n",
      "Episode Num: 3200.00 AvgReward: -1367.90 ActorLoss: 41.94 CriticLoss: 48.35 Epsilon: 0.53\n",
      "Episode Num: 3250.00 AvgReward: -1110.41 ActorLoss: 41.94 CriticLoss: 48.35 Epsilon: 0.52\n",
      "Episode Num: 3300.00 AvgReward: -1174.97 ActorLoss: 51.86 CriticLoss: 0.65 Epsilon: 0.52\n",
      "Episode Num: 3350.00 AvgReward: -754.28 ActorLoss: 51.86 CriticLoss: 0.65 Epsilon: 0.51\n",
      "Episode Num: 3400.00 AvgReward: -751.23 ActorLoss: 54.53 CriticLoss: 41.88 Epsilon: 0.51\n",
      "Episode Num: 3450.00 AvgReward: -129.46 ActorLoss: 54.53 CriticLoss: 41.88 Epsilon: 0.50\n",
      "Episode Num: 3500.00 AvgReward: -242.50 ActorLoss: 46.46 CriticLoss: 3.94 Epsilon: 0.50\n",
      "Episode Num: 3550.00 AvgReward: -234.20 ActorLoss: 46.46 CriticLoss: 3.94 Epsilon: 0.49\n",
      "Episode Num: 3600.00 AvgReward: -947.20 ActorLoss: 47.02 CriticLoss: 4.54 Epsilon: 0.49\n",
      "Episode Num: 3650.00 AvgReward: -1070.62 ActorLoss: 47.02 CriticLoss: 4.54 Epsilon: 0.48\n",
      "Episode Num: 3700.00 AvgReward: -2.04 ActorLoss: 34.57 CriticLoss: 25.86 Epsilon: 0.48\n",
      "Episode Num: 3750.00 AvgReward: -0.72 ActorLoss: 34.57 CriticLoss: 25.86 Epsilon: 0.47\n",
      "Episode Num: 3800.00 AvgReward: -124.73 ActorLoss: 20.08 CriticLoss: 2.60 Epsilon: 0.47\n",
      "Episode Num: 3850.00 AvgReward: -778.10 ActorLoss: 20.08 CriticLoss: 2.60 Epsilon: 0.46\n",
      "Episode Num: 3900.00 AvgReward: -0.43 ActorLoss: 7.41 CriticLoss: 28.53 Epsilon: 0.46\n",
      "Episode Num: 3950.00 AvgReward: -412.24 ActorLoss: 7.41 CriticLoss: 28.53 Epsilon: 0.45\n",
      "Episode Num: 4000.00 AvgReward: -124.09 ActorLoss: 6.92 CriticLoss: 3.41 Epsilon: 0.45\n",
      "Episode Num: 4050.00 AvgReward: -1598.25 ActorLoss: 6.92 CriticLoss: 3.41 Epsilon: 0.44\n",
      "Episode Num: 4100.00 AvgReward: -120.43 ActorLoss: 7.42 CriticLoss: 6.35 Epsilon: 0.44\n",
      "Episode Num: 4150.00 AvgReward: -1359.03 ActorLoss: 7.42 CriticLoss: 6.35 Epsilon: 0.44\n",
      "Episode Num: 4200.00 AvgReward: -1520.98 ActorLoss: 23.18 CriticLoss: 1.29 Epsilon: 0.43\n",
      "Episode Num: 4250.00 AvgReward: -245.21 ActorLoss: 23.18 CriticLoss: 1.29 Epsilon: 0.43\n",
      "Episode Num: 4300.00 AvgReward: -3.12 ActorLoss: 24.68 CriticLoss: 4.44 Epsilon: 0.42\n",
      "Episode Num: 4350.00 AvgReward: -125.22 ActorLoss: 24.68 CriticLoss: 4.44 Epsilon: 0.42\n",
      "Episode Num: 4400.00 AvgReward: -118.68 ActorLoss: 14.49 CriticLoss: 37.85 Epsilon: 0.41\n",
      "Episode Num: 4450.00 AvgReward: -251.51 ActorLoss: 14.49 CriticLoss: 37.85 Epsilon: 0.41\n",
      "Episode Num: 4500.00 AvgReward: -2.59 ActorLoss: 13.18 CriticLoss: 6.63 Epsilon: 0.41\n",
      "Episode Num: 4550.00 AvgReward: -233.55 ActorLoss: 13.18 CriticLoss: 6.63 Epsilon: 0.40\n",
      "Episode Num: 4600.00 AvgReward: -222.92 ActorLoss: 6.90 CriticLoss: 34.52 Epsilon: 0.40\n"
     ]
    },
    {
     "name": "stdout",
     "output_type": "stream",
     "text": [
      "Episode Num: 4650.00 AvgReward: -1348.06 ActorLoss: 6.90 CriticLoss: 34.52 Epsilon: 0.39\n",
      "Episode Num: 4700.00 AvgReward: -1138.74 ActorLoss: -5.85 CriticLoss: 13.30 Epsilon: 0.39\n",
      "Episode Num: 4750.00 AvgReward: -238.12 ActorLoss: -5.85 CriticLoss: 13.30 Epsilon: 0.39\n",
      "Episode Num: 4800.00 AvgReward: -116.38 ActorLoss: -6.89 CriticLoss: 10.26 Epsilon: 0.38\n",
      "Episode Num: 4850.00 AvgReward: -1.20 ActorLoss: -6.89 CriticLoss: 10.26 Epsilon: 0.38\n",
      "Episode Num: 4900.00 AvgReward: -1458.43 ActorLoss: -3.06 CriticLoss: 2.75 Epsilon: 0.38\n",
      "Episode Num: 4950.00 AvgReward: -369.73 ActorLoss: -3.06 CriticLoss: 2.75 Epsilon: 0.37\n",
      "Episode Num: 5000.00 AvgReward: -376.88 ActorLoss: 0.49 CriticLoss: 6.71 Epsilon: 0.37\n",
      "Episode Num: 5050.00 AvgReward: -509.87 ActorLoss: 0.49 CriticLoss: 6.71 Epsilon: 0.36\n",
      "Episode Num: 5100.00 AvgReward: -529.24 ActorLoss: 4.69 CriticLoss: 2.10 Epsilon: 0.36\n",
      "Episode Num: 5150.00 AvgReward: -558.14 ActorLoss: 4.69 CriticLoss: 2.10 Epsilon: 0.36\n",
      "Episode Num: 5200.00 AvgReward: -228.50 ActorLoss: -0.36 CriticLoss: 8.14 Epsilon: 0.35\n",
      "Episode Num: 5250.00 AvgReward: -115.36 ActorLoss: -0.36 CriticLoss: 8.14 Epsilon: 0.35\n",
      "Episode Num: 5300.00 AvgReward: -1014.71 ActorLoss: 1.45 CriticLoss: 4.51 Epsilon: 0.35\n",
      "Episode Num: 5350.00 AvgReward: -444.13 ActorLoss: 1.45 CriticLoss: 4.51 Epsilon: 0.34\n",
      "Episode Num: 5400.00 AvgReward: -445.41 ActorLoss: -2.84 CriticLoss: 5.47 Epsilon: 0.34\n",
      "Episode Num: 5450.00 AvgReward: -322.60 ActorLoss: -2.84 CriticLoss: 5.47 Epsilon: 0.34\n",
      "Episode Num: 5500.00 AvgReward: -360.71 ActorLoss: -3.61 CriticLoss: 0.19 Epsilon: 0.33\n",
      "Episode Num: 5550.00 AvgReward: -357.36 ActorLoss: -3.61 CriticLoss: 0.19 Epsilon: 0.33\n",
      "Episode Num: 5600.00 AvgReward: -217.44 ActorLoss: -12.05 CriticLoss: 0.10 Epsilon: 0.33\n",
      "Episode Num: 5650.00 AvgReward: -121.73 ActorLoss: -12.05 CriticLoss: 0.10 Epsilon: 0.32\n",
      "Episode Num: 5700.00 AvgReward: -238.34 ActorLoss: -15.77 CriticLoss: 2.79 Epsilon: 0.32\n",
      "Episode Num: 5750.00 AvgReward: -228.16 ActorLoss: -15.77 CriticLoss: 2.79 Epsilon: 0.32\n",
      "Episode Num: 5800.00 AvgReward: -339.59 ActorLoss: -21.57 CriticLoss: 5.87 Epsilon: 0.31\n",
      "Episode Num: 5850.00 AvgReward: -596.67 ActorLoss: -21.57 CriticLoss: 5.87 Epsilon: 0.31\n",
      "Episode Num: 5900.00 AvgReward: -6.70 ActorLoss: -17.14 CriticLoss: 2.52 Epsilon: 0.31\n",
      "Episode Num: 5950.00 AvgReward: -376.10 ActorLoss: -17.14 CriticLoss: 2.52 Epsilon: 0.30\n"
     ]
    }
   ],
   "source": [
    "import yaml\n",
    "import os\n",
    "from datetime import date\n",
    "from pearl.factory import factory as f\n",
    "from pearl.utils.misc import *\n",
    "\n",
    "# Configs ***************\n",
    "\n",
    "#get all config paths\n",
    "config_env, config_agent, config_memory, config_process, config_trainer  = MakeConfig(config_file)\n"
   ]
  },
  {
   "cell_type": "code",
   "execution_count": 10,
   "metadata": {},
   "outputs": [
    {
     "data": {
      "image/png": "[encoded data removed]",
      "text/plain": [
       "<Figure size 720x360 with 1 Axes>"
      ]
     },
     "metadata": {
      "needs_background": "light"
     },
     "output_type": "display_data"
    }
   ],
   "source": [
    "trainer.plot_agent_learning_curve(scores, 'plot.png', 100)"
   ]
  },
  {
   "cell_type": "code",
   "execution_count": null,
   "metadata": {},
   "outputs": [],
   "source": []
  },
  {
   "cell_type": "code",
   "execution_count": null,
   "metadata": {},
   "outputs": [],
   "source": []
  }
 ],
 "metadata": {
  "kernelspec": {
   "display_name": "Python 3",
   "language": "python",
   "name": "python3"
  },
  "language_info": {
   "codemirror_mode": {
    "name": "ipython",
    "version": 3
   },
   "file_extension": ".py",
   "mimetype": "text/x-python",
   "name": "python",
   "nbconvert_exporter": "python",
   "pygments_lexer": "ipython3",
   "version": "3.6.8"
  }
 },
 "nbformat": 4,
 "nbformat_minor": 2
}
