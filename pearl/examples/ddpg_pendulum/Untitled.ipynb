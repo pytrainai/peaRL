{
 "cells": [
  {
   "cell_type": "code",
   "execution_count": null,
   "metadata": {},
   "outputs": [],
   "source": [
    "from pearl.utils.misc import *\n",
    "\n",
    "def MakeConfig(config_file):\n",
    "    configs = get_config(config_file)\n",
    "    return configs\n",
    "\n",
    "    config_file = 'ddpg_linear_config.yaml'\n",
    "configs = MakeConfig(config_file)\n",
    "configs"
   ]
  },
  {
   "cell_type": "code",
   "execution_count": null,
   "metadata": {},
   "outputs": [],
   "source": [
    "config_env = configs['env']\n",
    "config_agent = configs['agent']\n",
    "config_memory = configs['memory']\n",
    "config_process = configs['process']\n",
    "config_trainer = configs['trainer']\n",
    "\n",
    "config_agent"
   ]
  },
  {
   "cell_type": "code",
   "execution_count": null,
   "metadata": {},
   "outputs": [],
   "source": []
  },
  {
   "cell_type": "code",
   "execution_count": null,
   "metadata": {},
   "outputs": [],
   "source": []
  },
  {
   "cell_type": "code",
   "execution_count": null,
   "metadata": {},
   "outputs": [],
   "source": [
    "import yaml\n",
    "import os\n",
    "from datetime import date\n",
    "from pearl.factory import factory as f\n",
    "from pearl.utils.misc import *\n",
    "\n",
    "# Configs ***************\n",
    "\n",
    "#get all config paths\n",
    "config_env, config_agent, config_memory, config_process, config_trainer  = MakeConfig(config_file)\n"
   ]
  },
  {
   "cell_type": "code",
   "execution_count": null,
   "metadata": {},
   "outputs": [],
   "source": [
    "trainer.plot_agent_learning_curve(scores, 'plot.png', 100)"
   ]
  },
  {
   "cell_type": "code",
   "execution_count": null,
   "metadata": {},
   "outputs": [],
   "source": []
  },
  {
   "cell_type": "code",
   "execution_count": null,
   "metadata": {},
   "outputs": [],
   "source": [
    "import os"
   ]
  },
  {
   "cell_type": "code",
   "execution_count": null,
   "metadata": {},
   "outputs": [],
   "source": [
    "if not os.path.isdir(os.path.join(os.getcwd(), 'results')): os.mkdir('results')"
   ]
  },
  {
   "cell_type": "code",
   "execution_count": null,
   "metadata": {},
   "outputs": [],
   "source": [
    "destination_folder = 'results/'\n",
    "destination_file = destination_folder + 'plot.png'\n",
    "destination_file"
   ]
  },
  {
   "cell_type": "code",
   "execution_count": null,
   "metadata": {},
   "outputs": [],
   "source": [
    "from pearl.utils.misc import *\n",
    "\n",
    "rewards = [1, 2, 5, 6, 7, 8]\n",
    "\n",
    "plot(rewards, destination_file, 2)"
   ]
  },
  {
   "cell_type": "code",
   "execution_count": null,
   "metadata": {},
   "outputs": [],
   "source": [
    "import gym\n",
    "env = gym.make('Pendulum-v0')"
   ]
  },
  {
   "cell_type": "code",
   "execution_count": null,
   "metadata": {},
   "outputs": [],
   "source": [
    "action_dim = env.action_space.shape[0]\n",
    "max_action = env.action_space.high.item()\n",
    "state_dim = len(env.reset())\n",
    "device = 'cuda'"
   ]
  },
  {
   "cell_type": "code",
   "execution_count": null,
   "metadata": {},
   "outputs": [],
   "source": [
    "from pearl.models.ddpg_linear_model import Actor\n",
    "actor = Actor(state_dim, action_dim, max_action).to(device)"
   ]
  },
  {
   "cell_type": "code",
   "execution_count": null,
   "metadata": {},
   "outputs": [],
   "source": [
    "import torch\n",
    "obs = env.reset()\n",
    "obs = torch.from_numpy(obs).float().to(device)"
   ]
  },
  {
   "cell_type": "code",
   "execution_count": null,
   "metadata": {},
   "outputs": [],
   "source": [
    "obs2 = env.reset()\n",
    "obs2 = torch.from_numpy(obs2).float().to(device)"
   ]
  },
  {
   "cell_type": "code",
   "execution_count": null,
   "metadata": {},
   "outputs": [],
   "source": [
    "obs_stack = torch.stack((obs, obs2), dim = 0)\n",
    "obs_stack"
   ]
  },
  {
   "cell_type": "code",
   "execution_count": null,
   "metadata": {},
   "outputs": [],
   "source": [
    "actor(obs_stack)"
   ]
  },
  {
   "cell_type": "code",
   "execution_count": null,
   "metadata": {},
   "outputs": [],
   "source": [
    "obs_stack.shape"
   ]
  },
  {
   "cell_type": "code",
   "execution_count": null,
   "metadata": {},
   "outputs": [],
   "source": [
    "from pearl.factory import factory as f\n",
    "from pearl.utils.misc import *\n",
    "\n",
    "# Configs ***************\n",
    "config_file = 'ddpg_linear_config.yaml'\n",
    "#get all config paths\n",
    "config_env, config_agent, config_memory, config_process, config_trainer  = f.MakeConfig(config_file)\n"
   ]
  },
  {
   "cell_type": "code",
   "execution_count": null,
   "metadata": {},
   "outputs": [],
   "source": [
    "env, env_dims = f.MakeEnvironment(config_env)\n",
    "agent, device, used_device = f.MakeAgent(config_agent, env_dims)"
   ]
  },
  {
   "cell_type": "code",
   "execution_count": null,
   "metadata": {},
   "outputs": [],
   "source": [
    "obs = env.reset()"
   ]
  },
  {
   "cell_type": "code",
   "execution_count": null,
   "metadata": {},
   "outputs": [],
   "source": [
    "agent.select_action(obs, 1)"
   ]
  },
  {
   "cell_type": "code",
   "execution_count": null,
   "metadata": {},
   "outputs": [],
   "source": []
  }
 ],
 "metadata": {
  "kernelspec": {
   "display_name": "Python 3",
   "language": "python",
   "name": "python3"
  },
  "language_info": {
   "codemirror_mode": {
    "name": "ipython",
    "version": 3
   },
   "file_extension": ".py",
   "mimetype": "text/x-python",
   "name": "python",
   "nbconvert_exporter": "python",
   "pygments_lexer": "ipython3",
   "version": "3.6.8"
  }
 },
 "nbformat": 4,
 "nbformat_minor": 2
}
