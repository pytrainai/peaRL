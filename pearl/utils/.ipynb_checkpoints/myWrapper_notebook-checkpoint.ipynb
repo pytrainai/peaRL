{
 "cells": [
  {
   "cell_type": "code",
   "execution_count": 1,
   "metadata": {},
   "outputs": [],
   "source": [
    "import gym\n",
    "import roboschool\n",
    "from atari_preprocessing import AtariPreprocessing\n",
    "import numpy as np\n",
    "import cv2"
   ]
  },
  {
   "cell_type": "code",
   "execution_count": null,
   "metadata": {},
   "outputs": [],
   "source": [
    "# no wrapped\n",
    "env_name = 'PongDeterministic-v0'\n",
    "env = gym.make(env_name)\n",
    "env.observation_space.shape"
   ]
  },
  {
   "cell_type": "markdown",
   "metadata": {},
   "source": [
    "## dummy wrapper"
   ]
  },
  {
   "cell_type": "code",
   "execution_count": null,
   "metadata": {},
   "outputs": [],
   "source": [
    "class MyWrapper(AtariPreprocessing):\n",
    "    pass"
   ]
  },
  {
   "cell_type": "code",
   "execution_count": null,
   "metadata": {},
   "outputs": [],
   "source": [
    "env = MyWrapper(env)\n",
    "env.observation_space.shape"
   ]
  },
  {
   "cell_type": "markdown",
   "metadata": {},
   "source": [
    "## extended wrapper example"
   ]
  },
  {
   "cell_type": "code",
   "execution_count": null,
   "metadata": {},
   "outputs": [],
   "source": [
    "class MyWrapper(AtariPreprocessing):\n",
    "    def __init__(self, env, obs_batch_size = 2, normalize_obs = True):\n",
    "        super().__init__(env)\n",
    "        self.obs_batch_size = obs_batch_size"
   ]
  },
  {
   "cell_type": "code",
   "execution_count": null,
   "metadata": {},
   "outputs": [],
   "source": [
    "env_name = 'PongDeterministic-v0'\n",
    "env = gym.make(env_name)\n",
    "env = MyWrapper(env)\n",
    "env.obs_batch_size"
   ]
  },
  {
   "cell_type": "markdown",
   "metadata": {},
   "source": [
    "## extended wrapper with custom methods"
   ]
  },
  {
   "cell_type": "code",
   "execution_count": 4,
   "metadata": {},
   "outputs": [
    {
     "data": {
      "text/plain": [
       "3"
      ]
     },
     "execution_count": 4,
     "metadata": {},
     "output_type": "execute_result"
    }
   ],
   "source": [
    "from mywrapper import MyWrapper\n",
    "env_name = 'PongDeterministic-v0'\n",
    "env = gym.make(env_name)\n",
    "env = MyWrapper(env)\n",
    "len(env.reset())"
   ]
  },
  {
   "cell_type": "markdown",
   "metadata": {},
   "source": [
    "# utils functions"
   ]
  },
  {
   "cell_type": "code",
   "execution_count": 6,
   "metadata": {},
   "outputs": [
    {
     "data": {
      "image/png": "[encoded data removed]",
      "text/plain": [
       "<Figure size 720x720 with 3 Axes>"
      ]
     },
     "metadata": {
      "needs_background": "light"
     },
     "output_type": "display_data"
    }
   ],
   "source": [
    "%matplotlib inline\n",
    "from utils import plot_transition, random_play\n",
    "import matplotlib.pyplot as plt\n",
    "env.reset()\n",
    "action = env.action_space.sample()\n",
    "obs, reward, done, info = env.step(action)\n",
    "plot_transition(env,obs)"
   ]
  },
  {
   "cell_type": "code",
   "execution_count": 7,
   "metadata": {},
   "outputs": [
    {
     "data": {
      "image/png": "[encoded data removed]",
      "text/plain": [
       "<Figure size 288x288 with 1 Axes>"
      ]
     },
     "metadata": {
      "needs_background": "light"
     },
     "output_type": "display_data"
    }
   ],
   "source": [
    "random_play(env,50)"
   ]
  },
  {
   "cell_type": "code",
   "execution_count": 10,
   "metadata": {},
   "outputs": [
    {
     "data": {
      "text/plain": [
       "[array([[ 52,  52,  52, ...,  87,  87,  87],\n",
       "        [ 87,  87,  87, ...,  87,  87,  87],\n",
       "        [ 87,  87,  87, ...,  87,  87,  87],\n",
       "        ...,\n",
       "        [236, 236, 236, ..., 236, 236, 236],\n",
       "        [236, 236, 236, ..., 236, 236, 236],\n",
       "        [236, 236, 236, ..., 236, 236, 236]], dtype=uint8),\n",
       " array([[ 52,  52,  52, ...,  87,  87,  87],\n",
       "        [ 87,  87,  87, ...,  87,  87,  87],\n",
       "        [ 87,  87,  87, ...,  87,  87,  87],\n",
       "        ...,\n",
       "        [236, 236, 236, ..., 236, 236, 236],\n",
       "        [236, 236, 236, ..., 236, 236, 236],\n",
       "        [236, 236, 236, ..., 236, 236, 236]], dtype=uint8),\n",
       " array([[ 52,  52,  52, ...,  87,  87,  87],\n",
       "        [ 87,  87,  87, ...,  87,  87,  87],\n",
       "        [ 87,  87,  87, ...,  87,  87,  87],\n",
       "        ...,\n",
       "        [236, 236, 236, ..., 236, 236, 236],\n",
       "        [236, 236, 236, ..., 236, 236, 236],\n",
       "        [236, 236, 236, ..., 236, 236, 236]], dtype=uint8)]"
      ]
     },
     "execution_count": 10,
     "metadata": {},
     "output_type": "execute_result"
    }
   ],
   "source": [
    "obs, reward, done, info = env.step(action)\n",
    "obs"
   ]
  },
  {
   "cell_type": "code",
   "execution_count": null,
   "metadata": {},
   "outputs": [],
   "source": []
  }
 ],
 "metadata": {
  "kernelspec": {
   "display_name": "Python 3",
   "language": "python",
   "name": "python3"
  },
  "language_info": {
   "codemirror_mode": {
    "name": "ipython",
    "version": 3
   },
   "file_extension": ".py",
   "mimetype": "text/x-python",
   "name": "python",
   "nbconvert_exporter": "python",
   "pygments_lexer": "ipython3",
   "version": "3.6.8"
  }
 },
 "nbformat": 4,
 "nbformat_minor": 2
}
