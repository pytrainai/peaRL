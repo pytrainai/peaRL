{
 "cells": [
  {
   "cell_type": "markdown",
   "metadata": {},
   "source": [
    "# pearl Example"
   ]
  },
  {
   "cell_type": "code",
   "execution_count": 1,
   "metadata": {},
   "outputs": [],
   "source": [
    "import pearl\n",
    "from pearl.factory import factory as f\n",
    "import torch\n",
    "import torch.nn.functional as F\n",
    "from collections import deque\n",
    "import numpy as np\n",
    "import matplotlib.pyplot as plt"
   ]
  },
  {
   "cell_type": "code",
   "execution_count": 2,
   "metadata": {},
   "outputs": [
    {
     "name": "stdout",
     "output_type": "stream",
     "text": [
      "Setting  dqn  agent on: cpu\n"
     ]
    }
   ],
   "source": [
    "config_file = 'dqn_linear_config_2.yaml'\n",
    "\n",
    "config_env,        \\\n",
    "config_agent,      \\\n",
    "config_memory,     \\\n",
    "config_process,    \\\n",
    "config_trainer  = f.MakeConfig(config_file)\n",
    "\n",
    "# Experiment ************\n",
    "\n",
    "# make process components\n",
    "env, env_dims = f.MakeEnvironment(config_env)\n",
    "agent, device, used_device = f.MakeAgent(config_agent, env_dims)\n",
    "memory = f.MakeMemory(config_memory)\n",
    "\n",
    "# make process\n",
    "process = f.MakeProcess(agent, env, memory, device, config_process)\n",
    "\n",
    "# make trainer\n",
    "trainer = f.MakeTrainer(process, config_trainer)"
   ]
  },
  {
   "cell_type": "markdown",
   "metadata": {},
   "source": [
    "### fill memory"
   ]
  },
  {
   "cell_type": "code",
   "execution_count": 3,
   "metadata": {},
   "outputs": [
    {
     "name": "stderr",
     "output_type": "stream",
     "text": [
      "/home/nickben/.local/lib/python3.6/site-packages/gym/logger.py:30: UserWarning: \u001b[33mWARN: You are calling 'step()' even though this environment has already returned done = True. You should always call 'reset()' once you receive 'done = True' -- any further steps are undefined behavior.\u001b[0m\n",
      "  warnings.warn(colorize('%s: %s'%('WARN', msg % args), 'yellow'))\n"
     ]
    },
    {
     "data": {
      "text/plain": [
       "6412"
      ]
     },
     "execution_count": 3,
     "metadata": {},
     "output_type": "execute_result"
    }
   ],
   "source": [
    "for _ in range(100):\n",
    "    trainer.warmup()\n",
    "len(process.memory)"
   ]
  },
  {
   "cell_type": "code",
   "execution_count": 17,
   "metadata": {},
   "outputs": [
    {
     "data": {
      "text/plain": [
       "(array([[-22.82533869,  -1.27062594,  72.66433917,  15.747313  ]]),\n",
       " array([[1]]),\n",
       " array([[0.]]),\n",
       " array([[-22.85075121,  -1.17771976,  72.97928543,  15.75867638]]),\n",
       " array([[1]], dtype=uint8))"
      ]
     },
     "execution_count": 17,
     "metadata": {},
     "output_type": "execute_result"
    }
   ],
   "source": [
    "#check\n",
    "memory.sample(1)"
   ]
  },
  {
   "cell_type": "markdown",
   "metadata": {},
   "source": [
    "### manual train step"
   ]
  },
  {
   "cell_type": "code",
   "execution_count": 8,
   "metadata": {},
   "outputs": [],
   "source": [
    "try: \n",
    "    process.agent_train(1)\n",
    "except:\n",
    "    print('training step error: please debug')"
   ]
  },
  {
   "cell_type": "code",
   "execution_count": 44,
   "metadata": {},
   "outputs": [],
   "source": [
    "experiences = memory.sample(10)"
   ]
  },
  {
   "cell_type": "code",
   "execution_count": 45,
   "metadata": {},
   "outputs": [
    {
     "data": {
      "text/plain": [
       "tensor([[0.],\n",
       "        [0.],\n",
       "        [1.],\n",
       "        [0.],\n",
       "        [0.],\n",
       "        [0.],\n",
       "        [0.],\n",
       "        [0.],\n",
       "        [0.],\n",
       "        [0.]], device='cuda:0')"
      ]
     },
     "execution_count": 45,
     "metadata": {},
     "output_type": "execute_result"
    }
   ],
   "source": [
    "x, u, r, y, d = experiences\n",
    "obs_old = torch.FloatTensor(x).to(device)\n",
    "action = torch.FloatTensor(u).to(device)\n",
    "obs_new = torch.FloatTensor(y).to(device)\n",
    "done = torch.FloatTensor(1 - d).to(device)\n",
    "reward = torch.FloatTensor(r).to(device)\n",
    "\n",
    "reward"
   ]
  },
  {
   "cell_type": "code",
   "execution_count": 46,
   "metadata": {},
   "outputs": [
    {
     "data": {
      "text/plain": [
       "tensor([[-1.0581, -0.4574],\n",
       "        [-1.7286, -0.3854],\n",
       "        [ 0.0628, -0.0318],\n",
       "        [-0.9005, -0.4437],\n",
       "        [-0.7240, -0.2602],\n",
       "        [-1.1143, -0.4251],\n",
       "        [-1.3746, -0.3087],\n",
       "        [-1.8136, -0.4970],\n",
       "        [-0.4842, -0.2741],\n",
       "        [-1.7509, -0.3982]], device='cuda:0', grad_fn=<AddmmBackward>)"
      ]
     },
     "execution_count": 46,
     "metadata": {},
     "output_type": "execute_result"
    }
   ],
   "source": [
    "targets = agent.qnet_target(obs_new)\n",
    "targets"
   ]
  },
  {
   "cell_type": "code",
   "execution_count": 47,
   "metadata": {},
   "outputs": [
    {
     "data": {
      "text/plain": [
       "tensor([-0.4574, -0.3854,  0.0628, -0.4437, -0.2602, -0.4251, -0.3087, -0.4970,\n",
       "        -0.2741, -0.3982], device='cuda:0', grad_fn=<MaxBackward0>)"
      ]
     },
     "execution_count": 47,
     "metadata": {},
     "output_type": "execute_result"
    }
   ],
   "source": [
    "max_targets, _ = torch.max(targets, 1)\n",
    "max_targets"
   ]
  },
  {
   "cell_type": "code",
   "execution_count": 48,
   "metadata": {},
   "outputs": [
    {
     "data": {
      "text/plain": [
       "tensor([[-0.4574],\n",
       "        [-0.3854],\n",
       "        [ 0.0628],\n",
       "        [-0.4437],\n",
       "        [-0.2602],\n",
       "        [-0.4251],\n",
       "        [-0.3087],\n",
       "        [-0.4970],\n",
       "        [-0.2741],\n",
       "        [-0.3982]], device='cuda:0', grad_fn=<UnsqueezeBackward0>)"
      ]
     },
     "execution_count": 48,
     "metadata": {},
     "output_type": "execute_result"
    }
   ],
   "source": [
    "max_targets = max_targets.unsqueeze(1)\n",
    "max_targets"
   ]
  },
  {
   "cell_type": "code",
   "execution_count": 49,
   "metadata": {},
   "outputs": [
    {
     "data": {
      "text/plain": [
       "tensor([[0.0000],\n",
       "        [0.0000],\n",
       "        [1.0621],\n",
       "        [0.0000],\n",
       "        [0.0000],\n",
       "        [0.0000],\n",
       "        [0.0000],\n",
       "        [0.0000],\n",
       "        [0.0000],\n",
       "        [0.0000]], device='cuda:0', grad_fn=<AddBackward0>)"
      ]
     },
     "execution_count": 49,
     "metadata": {},
     "output_type": "execute_result"
    }
   ],
   "source": [
    "discount = 0.99\n",
    "q_target = reward + discount*max_targets*done\n",
    "q_target"
   ]
  },
  {
   "cell_type": "code",
   "execution_count": 52,
   "metadata": {},
   "outputs": [
    {
     "data": {
      "text/plain": [
       "tensor([[-1.0133, -0.4675],\n",
       "        [-1.7195, -0.3886],\n",
       "        [ 0.0689, -0.0242],\n",
       "        [-0.8716, -0.4381],\n",
       "        [-0.7309, -0.2662],\n",
       "        [-1.1035, -0.4322],\n",
       "        [-1.3616, -0.3128],\n",
       "        [-1.7897, -0.4831],\n",
       "        [-0.4837, -0.2853],\n",
       "        [-1.7457, -0.4007]], device='cuda:0', grad_fn=<AddmmBackward>)"
      ]
     },
     "execution_count": 52,
     "metadata": {},
     "output_type": "execute_result"
    }
   ],
   "source": [
    "q_expected = agent.qnet(obs_old)\n",
    "q_expected"
   ]
  },
  {
   "cell_type": "code",
   "execution_count": 57,
   "metadata": {},
   "outputs": [],
   "source": [
    "q_expected = q_expected.gather(1, action.long()) "
   ]
  },
  {
   "cell_type": "code",
   "execution_count": 60,
   "metadata": {},
   "outputs": [
    {
     "data": {
      "text/plain": [
       "tensor(0.6724, device='cuda:0', grad_fn=<MeanBackward0>)"
      ]
     },
     "execution_count": 60,
     "metadata": {},
     "output_type": "execute_result"
    }
   ],
   "source": [
    "loss = F.mse_loss(q_expected, q_target)\n",
    "loss"
   ]
  },
  {
   "cell_type": "markdown",
   "metadata": {},
   "source": [
    "## manual training loop"
   ]
  },
  {
   "cell_type": "markdown",
   "metadata": {},
   "source": [
    "# no estoy pusheando a la memory! corregir esto, tiene q funcar!"
   ]
  },
  {
   "cell_type": "code",
   "execution_count": 4,
   "metadata": {},
   "outputs": [
    {
     "name": "stdout",
     "output_type": "stream",
     "text": [
      "Episode 50 Average Score: 12.84 Loss:71.07234954833984 Eps: 0.39\n",
      "Episode 100 Average Score: 14.12 Loss:54.37220001220703 Eps: 0.30\n",
      "Episode 150 Average Score: 18.70 Loss:27.938749313354492 Eps: 0.24\n",
      "Episode 200 Average Score: 20.12 Loss:3.6667726039886475 Eps: 0.18\n",
      "Episode 250 Average Score: 18.54 Loss:10.7303466796875 Eps: 0.14\n",
      "Episode 300 Average Score: 17.51 Loss:6.373643398284912 Eps: 0.11\n",
      "Episode 350 Average Score: 16.69 Loss:3.9038286209106445 Eps: 0.09\n",
      "Episode 400 Average Score: 18.04 Loss:3.883948564529419 Eps: 0.07\n",
      "Episode 450 Average Score: 22.53 Loss:1.6447645425796509 Eps: 0.05\n",
      "Episode 500 Average Score: 31.31 Loss:2.529973030090332 Eps: 0.04\n",
      "Episode 550 Average Score: 44.27 Loss:22.750974655151367 Eps: 0.03\n",
      "Episode 600 Average Score: 59.10 Loss:17.9317626953125 Eps: 0.02\n",
      "Episode 650 Average Score: 99.47 Loss:1.5099703073501587 Eps: 0.02\n",
      "Episode 700 Average Score: 154.51 Loss:0.1585087776184082 Eps: 0.01\n",
      "Episode 750 Average Score: 192.68 Loss:0.4469989538192749 Eps: 0.01\n",
      "\n",
      "Environment solved in 660 episodes!\tAverage Score: 200.53\n"
     ]
    }
   ],
   "source": [
    "batch_size = 64\n",
    "update_every = 4\n",
    "\n",
    "def dqn(n_episodes=2000, max_t=500, eps_start=0.5, eps_end=0.01, eps_decay=0.995):\n",
    "    \"\"\"Deep Q-Learning.\n",
    "    \n",
    "    Params\n",
    "    ======\n",
    "        n_episodes (int): maximum number of training episodes\n",
    "        max_t (int): maximum number of timesteps per episode\n",
    "        eps_start (float): starting value of epsilon, for epsilon-greedy action selection\n",
    "        eps_end (float): minimum value of epsilon\n",
    "        eps_decay (float): multiplicative factor (per episode) for decreasing epsilon\n",
    "    \"\"\"\n",
    "    scores = []                        # list containing scores from each episode\n",
    "    scores_window = deque(maxlen=100)  # last 100 scores\n",
    "    eps = eps_start                    # initialize epsilon\n",
    "    for i_episode in range(1, n_episodes+1):\n",
    "        state = env.reset()\n",
    "        score = 0\n",
    "        t_update = 0\n",
    "        for t in range(max_t):\n",
    "            action = agent.select_action(state, eps)\n",
    "            next_state, reward, done, _ = env.step(action)\n",
    "            experience = (state, action, reward, next_state, done)\n",
    "            memory.add(experience)\n",
    "            experiences = memory.sample(batch_size)\n",
    "            t_update = (t_update+1)%update_every\n",
    "            if t_update == 0:\n",
    "                loss = agent.train_step(experiences, 1, batch_size)\n",
    "            state = next_state\n",
    "            score += reward\n",
    "            if done:\n",
    "                break \n",
    "        scores_window.append(score)       # save most recent score\n",
    "        scores.append(score)              # save most recent score\n",
    "        eps = max(eps_end, eps_decay*eps) # decrease epsilon\n",
    "        if i_episode % 50 == 0:\n",
    "            print('Episode {} Average Score: {:.2f} Loss:{} Eps: {:.2f}'.format(i_episode, np.mean(scores_window), loss, eps))\n",
    "        if np.mean(scores_window)>=200.0:\n",
    "            print('\\nEnvironment solved in {:d} episodes!\\tAverage Score: {:.2f}'.format(i_episode-100, np.mean(scores_window)))\n",
    "            #torch.save(agent.qnetwork_local.state_dict(), 'checkpoint.pth')\n",
    "            break\n",
    "    return scores\n",
    "\n",
    "\n",
    "scores = dqn()\n",
    "\n"
   ]
  },
  {
   "cell_type": "code",
   "execution_count": 5,
   "metadata": {},
   "outputs": [
    {
     "data": {
      "text/plain": [
       "50277"
      ]
     },
     "execution_count": 5,
     "metadata": {},
     "output_type": "execute_result"
    }
   ],
   "source": [
    "len(memory)"
   ]
  },
  {
   "cell_type": "code",
   "execution_count": 6,
   "metadata": {},
   "outputs": [
    {
     "data": {
      "image/png": "[encoded data removed]",
      "text/plain": [
       "<Figure size 432x288 with 1 Axes>"
      ]
     },
     "metadata": {
      "needs_background": "light"
     },
     "output_type": "display_data"
    }
   ],
   "source": [
    "# plot the scores\n",
    "fig = plt.figure()\n",
    "ax = fig.add_subplot(111)\n",
    "plt.plot(np.arange(len(scores)), scores)\n",
    "plt.ylabel('Score')\n",
    "plt.xlabel('Episode #')\n",
    "plt.show()"
   ]
  },
  {
   "cell_type": "code",
   "execution_count": 12,
   "metadata": {},
   "outputs": [
    {
     "data": {
      "text/plain": [
       "500"
      ]
     },
     "execution_count": 12,
     "metadata": {},
     "output_type": "execute_result"
    }
   ],
   "source": [
    "env._max_episode_steps"
   ]
  },
  {
   "cell_type": "code",
   "execution_count": null,
   "metadata": {},
   "outputs": [],
   "source": []
  }
 ],
 "metadata": {
  "kernelspec": {
   "display_name": "Python 3",
   "language": "python",
   "name": "python3"
  },
  "language_info": {
   "codemirror_mode": {
    "name": "ipython",
    "version": 3
   },
   "file_extension": ".py",
   "mimetype": "text/x-python",
   "name": "python",
   "nbconvert_exporter": "python",
   "pygments_lexer": "ipython3",
   "version": "3.6.3"
  }
 },
 "nbformat": 4,
 "nbformat_minor": 2
}
